{
 "cells": [
  {
   "cell_type": "markdown",
   "metadata": {},
   "source": [
    "# **RECORTAR IMÁGENES**"
   ]
  },
  {
   "cell_type": "code",
   "execution_count": null,
   "metadata": {},
   "outputs": [],
   "source": [
    "import cv2\n",
    "import os\n",
    "\n",
    "# cropped = original[start_row:end_row, start_col:end_col] \n",
    "\n",
    "# start_row: primera fila hacia abajo que empiezo a mostrar (todas las de arriba fuera)\n",
    "# end_row:   última fila que muestro (todas las de debajo fuera)\n",
    "# start_col: primera columna hacia la derecha que empiezo a mostrar (todas las de la izquierda fuera)\n",
    "# end_col:   última columna que muestro (todas las de la derecha fuera)\n",
    "\n",
    "# Parámetros a cambiar\n",
    "i=1511\n",
    "nombre='exotico_corto'\n",
    "os.chdir('imagenes') # donde estén las imágenes a recortar\n",
    "\n",
    "for file in os.listdir():\n",
    "\n",
    "    original = cv2.imread(file)\n",
    "    crop = original[:(original.shape[0]-20), :] # quito las 20 últimas filas\n",
    "\n",
    "    cv2.imwrite(f'../imagenes_recortadas/{nombre}_{i}.jpg', crop) # tener la carpeta creada\n",
    "    i+=1\n",
    "print(\"*** RECORTADAS ***\")"
   ]
  },
  {
   "cell_type": "markdown",
   "metadata": {},
   "source": [
    "# **RENOMBRAR IMÁGENES**"
   ]
  },
  {
   "cell_type": "code",
   "execution_count": null,
   "metadata": {},
   "outputs": [],
   "source": [
    "import os\n",
    "\n",
    "# Parámetros a cambiar\n",
    "os.chdir('carpeta') # donde estén las imágenes a renombrar\n",
    "nombre=\"turco_blanco\"\n",
    "\n",
    "for index, file in enumerate(os.listdir()):\n",
    "    os.rename(file, f\"{nombre}_{str(index+1)}_.jpg\")\n",
    "\n",
    "print(\"Nombres cambiados\")"
   ]
  },
  {
   "cell_type": "markdown",
   "metadata": {},
   "source": [
    "# **LIMPIAR CARPETA**"
   ]
  },
  {
   "cell_type": "code",
   "execution_count": null,
   "metadata": {},
   "outputs": [],
   "source": [
    "import os\n",
    "\n",
    "# Parámetro a cambiar\n",
    "dir = 'imagenes'\n",
    "\n",
    "for f in os.listdir(dir):\n",
    "    os.remove(os.path.join(dir, f))\n",
    "\n",
    "print(\"LIMPIADO\")"
   ]
  },
  {
   "cell_type": "markdown",
   "metadata": {},
   "source": [
    "# **CAMBIAR NOMBRES RAZAS**"
   ]
  },
  {
   "cell_type": "code",
   "execution_count": null,
   "metadata": {},
   "outputs": [],
   "source": [
    "import os\n",
    "\n",
    "subsets = ['TESTING','TRAINING','VALIDATION']\n",
    "\n",
    "for subset in subsets:\n",
    "    directorio = f'Dataset-32000/{subset}'\n",
    "    razas = os.listdir(directorio)\n",
    "\n",
    "    for raza in razas:\n",
    "        nuevo_nombre = raza.split('_')[0] # nombre nuevo de la raza\n",
    "        os.rename(f'{directorio}/{raza}', f'{directorio}/{nuevo_nombre}')\n",
    "\n",
    "print('HECHO')"
   ]
  },
  {
   "cell_type": "code",
   "execution_count": 8,
   "metadata": {},
   "outputs": [
    {
     "name": "stdout",
     "output_type": "stream",
     "text": [
      "HECHO\n"
     ]
    }
   ],
   "source": [
    "import os\n",
    "\n",
    "dir = '../../Downloads/Dataset-32000'\n",
    "\n",
    "subsets = ['TESTING','TRAINING','VALIDATION']\n",
    "\n",
    "for subset in subsets:\n",
    "    razas = os.listdir(f'{dir}/{subset}')\n",
    "\n",
    "    for raza in razas:\n",
    "        for index, imagen in enumerate(os.listdir(f'{dir}/{subset}/{raza}')):\n",
    "            os.rename(f'{dir}/{subset}/{raza}/{imagen}', f'{dir}/{subset}/{raza}/{raza}_{index}.jpg')\n",
    "\n",
    "print('HECHO')"
   ]
  }
 ],
 "metadata": {
  "kernelspec": {
   "display_name": "entorno1",
   "language": "python",
   "name": "python3"
  },
  "language_info": {
   "codemirror_mode": {
    "name": "ipython",
    "version": 3
   },
   "file_extension": ".py",
   "mimetype": "text/x-python",
   "name": "python",
   "nbconvert_exporter": "python",
   "pygments_lexer": "ipython3",
   "version": "3.10.13"
  }
 },
 "nbformat": 4,
 "nbformat_minor": 2
}
